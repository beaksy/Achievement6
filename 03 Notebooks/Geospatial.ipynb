{
 "cells": [
  {
   "cell_type": "markdown",
   "id": "1b73e775",
   "metadata": {},
   "source": [
    "---------------------------------------------------------------------------------------------------\n",
    "\n",
    "\n",
    "# 0 Introduction and Setup\n",
    "### Scenario\n",
    "HailMary Roofing Company, LLC is looking to expand their business into new states. Repair and replacement from hail damage is their specialty and makes up a significant portion of their business. They've hired a data analyst to identify the best US states for their new roofing teams.\n",
    "\n",
    "### Summary\n",
    "The NOAA Storm Events Database is a comprehensive dataset maintained by the National Oceanic and Atmospheric Administration (NOAA). It records severe weather events across the United States, including hail, tornadoes, floods, and other significant storms. The dataset provides detailed event information, such as date, location (state and county), event magnitude (e.g., hail size), and reported damages. With data spanning multiple years, it serves as a valuable resource for analyzing historical weather patterns and assessing the frequency and impact of severe storms.\n",
    "The NOAA Storm Events Database was chosen for this analysis because it provides detailed records of hail events across the United States. Hail damage is a major driver of roofing repairs and replacements, making this dataset highly relevant to identifying expansion opportunities for the roofing company. The dataset includes state- and county-level geographic data, allowing for targeted analysis of high-risk areas. Additionally, its historical coverage enables trend analysis to identify regions with consistent hail activity, helping the company make informed business decisions about where to expand.\n",
    "\n",
    "The American Community Survey (ACS) is a nationwide survey conducted by the U.S. Census Bureau that provides detailed demographic, social, economic, and housing data every year. The housing data from the ACS includes statistics on housing occupancy, types of housing units, home values, mortgage status, rent, and housing costs. This data is essential for understanding housing conditions and trends at the local level, such as counties and cities. This data can be used to help select potential locations that would support business expansion. For counties with small populations, the data may be suppressed or not reported due to data reliability concerns or because the sample size is too small to produce statistically valid results. Generally, geographies with a population threshold (e.g., at least 65,000 people) are included in the detailed ACS reporting, while smaller areas may have limited or no data. For this reason, this analysis looks at only selected counties. Additional information about the dataset can be found here: https://www.census.gov/programs-surveys/acs/technical-documentation/code-lists.html\n",
    "\n",
    "The counties geojson provided by https://gis-txdot.opendata.arcgis.com/datasets/texas-county-boundaries/explore.\n"
   ]
  },
  {
   "cell_type": "markdown",
   "id": "ba98af46",
   "metadata": {},
   "source": [
    "# 1 Setup"
   ]
  },
  {
   "cell_type": "markdown",
   "id": "4cc9b12c",
   "metadata": {},
   "source": [
    "### Import visualization libraries"
   ]
  },
  {
   "cell_type": "code",
   "execution_count": null,
   "id": "cf41040e",
   "metadata": {},
   "outputs": [],
   "source": [
    "# Import libraries\n",
    "import pandas as pd          # Data manipulation\n",
    "import numpy as np           # Numerical operations\n",
    "import matplotlib.pyplot as plt  # Plotting\n",
    "import seaborn as sns        # Data visualization\n",
    "import os                    # File path operations\n",
    "import sweetviz as sv\n",
    "import folium\n",
    "import json\n",
    "from folium import Choropleth"
   ]
  },
  {
   "cell_type": "code",
   "execution_count": null,
   "id": "53d97168",
   "metadata": {},
   "outputs": [],
   "source": [
    "# Define path to data folder\n",
    "data_path = r\"C:\\Users\\nsmith\\OneDrive - Georgia Poultry Laboratory Network\\CareerFoundry\\02 - Data Immersion\\Achievement 6\\01 Data\""
   ]
  },
  {
   "cell_type": "code",
   "execution_count": null,
   "id": "58bf6402",
   "metadata": {},
   "outputs": [],
   "source": [
    "county_geo = os.path.join(data_path, \"Texas_County_Boundaries.geojson\")"
   ]
  },
  {
   "cell_type": "code",
   "execution_count": null,
   "id": "c8d26a94",
   "metadata": {},
   "outputs": [],
   "source": [
    "df_path = os.path.join(data_path, \"merged_data.csv\")"
   ]
  },
  {
   "cell_type": "code",
   "execution_count": null,
   "id": "916b349f",
   "metadata": {},
   "outputs": [],
   "source": [
    "# Load dataframe\n",
    "df = pd.read_csv(df_path)"
   ]
  },
  {
   "cell_type": "markdown",
   "id": "c9bc36f4",
   "metadata": {},
   "source": [
    "## 2 Examine Data"
   ]
  },
  {
   "cell_type": "code",
   "execution_count": null,
   "id": "e6187ff6",
   "metadata": {},
   "outputs": [],
   "source": [
    "df.columns"
   ]
  },
  {
   "cell_type": "code",
   "execution_count": null,
   "id": "2e3786ff",
   "metadata": {},
   "outputs": [],
   "source": [
    "# Load your GeoJSON file\n",
    "with open(county_geo, \"r\") as f:\n",
    "    texas_geo = json.load(f)"
   ]
  },
  {
   "cell_type": "code",
   "execution_count": null,
   "id": "266b9708",
   "metadata": {},
   "outputs": [],
   "source": [
    "# Print county names from GeoJSON\n",
    "for feature in texas_geo['features']:\n",
    "    print(feature['properties']['CNTY_NM'])"
   ]
  },
  {
   "cell_type": "markdown",
   "id": "dfb379cb",
   "metadata": {},
   "source": [
    "## 4 Wrangle Data"
   ]
  },
  {
   "cell_type": "markdown",
   "id": "baf4f5ec",
   "metadata": {},
   "source": [
    "#### Clean the county name column in the housing/storm data"
   ]
  },
  {
   "cell_type": "code",
   "execution_count": null,
   "id": "b0a28f17",
   "metadata": {},
   "outputs": [],
   "source": [
    "# Clean county names in df (housing and storm data)\n",
    "df['County'] = df['County'].str.strip().str.upper()"
   ]
  },
  {
   "cell_type": "code",
   "execution_count": null,
   "id": "6921ae1a",
   "metadata": {},
   "outputs": [],
   "source": [
    "# Sorted list of unique counties\n",
    "print(df['County'].unique())"
   ]
  },
  {
   "cell_type": "markdown",
   "id": "90109f07",
   "metadata": {},
   "source": [
    "#### Clean the county name in the geojson"
   ]
  },
  {
   "cell_type": "code",
   "execution_count": null,
   "id": "57cb20d0",
   "metadata": {},
   "outputs": [],
   "source": [
    "# Clean county names in the GeoJSON\n",
    "for feature in texas_geo['features']:\n",
    "    feature['properties']['CNTY_NM'] = feature['properties']['CNTY_NM'].strip().upper()"
   ]
  },
  {
   "cell_type": "code",
   "execution_count": null,
   "id": "f8605ecf",
   "metadata": {},
   "outputs": [],
   "source": [
    "# Print county names from GeoJSON\n",
    "for feature in texas_geo['features']:\n",
    "    print(feature['properties']['CNTY_NM'])"
   ]
  },
  {
   "cell_type": "markdown",
   "id": "c6e24dd4",
   "metadata": {},
   "source": [
    "# 5 Create a Map"
   ]
  },
  {
   "cell_type": "markdown",
   "id": "779b5e02",
   "metadata": {},
   "source": [
    "#### Create a choropleth map with the joined hail storm counts"
   ]
  },
  {
   "cell_type": "code",
   "execution_count": null,
   "id": "92351c45",
   "metadata": {},
   "outputs": [],
   "source": [
    "# Create a folium map centered on Texas\n",
    "m = folium.Map(location=[31.0, -99.0], zoom_start=6)\n",
    "\n",
    "# Add the choropleth layer\n",
    "Choropleth(\n",
    "    geo_data=texas_geo,\n",
    "    name=\"choropleth\",\n",
    "    data=df,\n",
    "    columns=[\"County\", \"Total_Storm_Events\"],  # Replace with the column you want to map\n",
    "    key_on=\"feature.properties.CNTY_NM\",\n",
    "    fill_color=\"YlOrRd\",\n",
    "    fill_opacity=0.7,\n",
    "    line_opacity=0.2,\n",
    "    legend_name=\"Number of hail storm events\",\n",
    ").add_to(m)\n",
    "\n",
    "# Add layer control\n",
    "folium.LayerControl().add_to(m)\n",
    "\n",
    "# Show the map\n",
    "m"
   ]
  },
  {
   "cell_type": "markdown",
   "id": "702c9b0f",
   "metadata": {},
   "source": [
    "The choropleth map above shows the total count of reported hail storm events for each county over 5 years (2020-2024). The analysis shows that many counties in Texas do not have reported hail events, and there are clusters of counties with reported events. These clusters may correspond with populated counties, such as those surrounding Houston and Dallas. Further analysis using the housing data below can help answer this question."
   ]
  },
  {
   "cell_type": "code",
   "execution_count": null,
   "id": "7b090b93",
   "metadata": {},
   "outputs": [],
   "source": [
    "# Create a folium map centered on Texas\n",
    "m = folium.Map(location=[31.0, -99.0], zoom_start=6)\n",
    "\n",
    "# Add the choropleth layer\n",
    "Choropleth(\n",
    "    geo_data=texas_geo,\n",
    "    name=\"choropleth\",\n",
    "    data=df,\n",
    "    columns=[\"County\", \"HOUSING OCCUPANCY Total housing units\"],  # Replace with the column you want to map\n",
    "    key_on=\"feature.properties.CNTY_NM\",\n",
    "    fill_color=\"YlOrRd\",\n",
    "    fill_opacity=0.7,\n",
    "    line_opacity=0.2,\n",
    "    legend_name=\"Number of housing units\",\n",
    ").add_to(m)\n",
    "\n",
    "# Add layer control\n",
    "folium.LayerControl().add_to(m)\n",
    "\n",
    "# Show the map\n",
    "m"
   ]
  },
  {
   "cell_type": "markdown",
   "id": "45683c15",
   "metadata": {},
   "source": [
    "The analysis above helps answer our previous research question, which is whether some counties impacted by hail events have a higher number of housing units than others. This information will help to identify those counties in Texas which have both a high number of hail events and a high number of single family homes, which is our next research question."
   ]
  },
  {
   "cell_type": "code",
   "execution_count": null,
   "id": "828923e7",
   "metadata": {},
   "outputs": [],
   "source": []
  }
 ],
 "metadata": {
  "kernelspec": {
   "display_name": "Python 3 (ipykernel)",
   "language": "python",
   "name": "python3"
  },
  "language_info": {
   "codemirror_mode": {
    "name": "ipython",
    "version": 3
   },
   "file_extension": ".py",
   "mimetype": "text/x-python",
   "name": "python",
   "nbconvert_exporter": "python",
   "pygments_lexer": "ipython3",
   "version": "3.10.9"
  }
 },
 "nbformat": 4,
 "nbformat_minor": 5
}
