{
 "cells": [
  {
   "cell_type": "code",
   "execution_count": 9,
   "id": "e01b15ae",
   "metadata": {
    "scrolled": true
   },
   "outputs": [
    {
     "data": {
      "text/plain": [
       "<bound method NDFrame.describe of        YEARMONTH  EPISODE_ID  EVENT_ID  LOCATION_INDEX  RANGE AZIMUTH  \\\n",
       "0         202404      188809   1161227               1   0.90      SW   \n",
       "1         202404      188809   1161228               1   0.00       N   \n",
       "2         202404      188809   1161229               1   0.57       E   \n",
       "3         202404      188809   1161230               1   0.96       S   \n",
       "4         202404      188809   1161231               1   0.62       N   \n",
       "...          ...         ...       ...             ...    ...     ...   \n",
       "48107     202408      196334   1215076               1   0.90      SE   \n",
       "48108     202408      196334   1215079               1   0.35     WSW   \n",
       "48109     202408      196334   1215080               1   1.50     SSW   \n",
       "48110     202408      196338   1215115               1   0.84       E   \n",
       "48111     202408      196338   1215115               2   0.89      NW   \n",
       "\n",
       "               LOCATION  LATITUDE  LONGITUDE     LAT2     LON2  \n",
       "0            HAPPY TOWN   33.9900   -81.0900  3359400   815400  \n",
       "1              COLUMBIA   34.0000   -81.0200     3400   811200  \n",
       "2              COLUMBIA   34.0000   -81.0100     3400    81600  \n",
       "3              BALLTOWN   33.5661   -81.7300  3333966  8143800  \n",
       "4              COLUMBIA   34.0090   -81.0210    34540   811260  \n",
       "...                 ...       ...        ...      ...      ...  \n",
       "48107           GRENADA   33.7700   -89.8100  3346200  8948600  \n",
       "48108            WINONA   33.4780   -89.7356  3328680  8944136  \n",
       "48109             COILA   33.3800   -89.9800  3322800  8958800  \n",
       "48110  SPIRIT LAKE LAKE   43.4713   -95.1034  4328278   956204  \n",
       "48111           ORLEANS   43.4799   -95.0915  4328794   955490  \n",
       "\n",
       "[48112 rows x 11 columns]>"
      ]
     },
     "execution_count": 9,
     "metadata": {},
     "output_type": "execute_result"
    }
   ],
   "source": [
    "import pandas as pd\n",
    "df = pd.read_csv(r\"C:\\Users\\nsmith\\OneDrive - Georgia Poultry Laboratory Network\\CareerFoundry\\02 - Data Immersion\\Achievement 6\\01 Data\\StormEvents_locations-ftp_v1.0_d2024_c20250317.csv.gz\", compression='gzip')\n",
    "df.head()\n",
    "df.describe"
   ]
  },
  {
   "cell_type": "code",
   "execution_count": 18,
   "id": "5d90ee78",
   "metadata": {
    "scrolled": true
   },
   "outputs": [
    {
     "data": {
      "text/plain": [
       "TEXAS                   1587\n",
       "KANSAS                   807\n",
       "OKLAHOMA                 771\n",
       "NEBRASKA                 512\n",
       "MISSOURI                 499\n",
       "IOWA                     417\n",
       "COLORADO                 415\n",
       "ILLINOIS                 373\n",
       "MINNESOTA                336\n",
       "SOUTH DAKOTA             317\n",
       "WISCONSIN                225\n",
       "PENNSYLVANIA             215\n",
       "ARKANSAS                 193\n",
       "OHIO                     189\n",
       "NORTH DAKOTA             174\n",
       "TENNESSEE                169\n",
       "INDIANA                  149\n",
       "SOUTH CAROLINA           129\n",
       "LOUISIANA                122\n",
       "MICHIGAN                 110\n",
       "MISSISSIPPI              107\n",
       "GEORGIA                  104\n",
       "NORTH CAROLINA           104\n",
       "KENTUCKY                 103\n",
       "NEW MEXICO                98\n",
       "MONTANA                   96\n",
       "VIRGINIA                  81\n",
       "ALABAMA                   81\n",
       "FLORIDA                   75\n",
       "WYOMING                   59\n",
       "NEW YORK                  54\n",
       "WEST VIRGINIA             49\n",
       "MASSACHUSETTS             36\n",
       "NEW HAMPSHIRE             35\n",
       "UTAH                      34\n",
       "ARIZONA                   31\n",
       "CONNECTICUT               22\n",
       "CALIFORNIA                21\n",
       "IDAHO                     21\n",
       "MARYLAND                  16\n",
       "MAINE                     15\n",
       "OREGON                     9\n",
       "RHODE ISLAND               8\n",
       "NEW JERSEY                 6\n",
       "VERMONT                    6\n",
       "PUERTO RICO                6\n",
       "NEVADA                     2\n",
       "WASHINGTON                 2\n",
       "ALASKA                     1\n",
       "DISTRICT OF COLUMBIA       1\n",
       "Name: STATE, dtype: int64"
      ]
     },
     "execution_count": 18,
     "metadata": {},
     "output_type": "execute_result"
    }
   ],
   "source": [
    "import pandas as pd\n",
    "df = pd.read_csv(r\"C:\\Users\\nsmith\\OneDrive - Georgia Poultry Laboratory Network\\CareerFoundry\\02 - Data Immersion\\Achievement 6\\01 Data\\StormEvents_details-ftp_v1.0_d2024_c20250317.csv.gz\", compression='gzip')\n",
    "df.head\n",
    "df.columns\n",
    "df['EVENT_TYPE'].unique()\n",
    "# Filter for rows where EVENT_TYPE is 'HAIL'\n",
    "hail_df = df[df['EVENT_TYPE'] == 'Hail']\n",
    "\n",
    "# # Count occurrences of each STATE\n",
    "state_counts = hail_df['STATE'].value_counts()\n",
    "\n",
    "# # Print the results\n",
    "state_counts"
   ]
  },
  {
   "cell_type": "code",
   "execution_count": 10,
   "id": "dba3fb17",
   "metadata": {
    "scrolled": true
   },
   "outputs": [
    {
     "data": {
      "text/plain": [
       "<bound method NDFrame.describe of       FAT_YEARMONTH  FAT_DAY  FAT_TIME  FATALITY_ID  EVENT_ID FATALITY_TYPE  \\\n",
       "0            202410       16         0        57962   1211048             D   \n",
       "1            202410       19         0        54831   1212790             D   \n",
       "2            202405       25         0        53067   1182292             D   \n",
       "3            202405       25         0        53068   1182292             D   \n",
       "4            202404        9         0        53096   1190773             I   \n",
       "...             ...      ...       ...          ...       ...           ...   \n",
       "1042         202405        3         0        53819   1209186             D   \n",
       "1043         202407       25         0        53903   1209484             D   \n",
       "1044         202409       14         0        54948   1211397             D   \n",
       "1045         202407       31         0        57365   1218391             I   \n",
       "1046         202406       23         0        57996   1220353             D   \n",
       "\n",
       "            FATALITY_DATE  FATALITY_AGE FATALITY_SEX    FATALITY_LOCATION  \\\n",
       "0     10/16/2024 00:00:00           NaN            F             In Water   \n",
       "1     10/19/2024 00:00:00           NaN          NaN              Unknown   \n",
       "2     05/25/2024 00:00:00           2.0            F  Mobile/Trailer Home   \n",
       "3     05/25/2024 00:00:00           5.0            M  Mobile/Trailer Home   \n",
       "4     04/09/2024 00:00:00          64.0            F                Other   \n",
       "...                   ...           ...          ...                  ...   \n",
       "1042  05/03/2024 00:00:00          39.0            M   Outside/Open Areas   \n",
       "1043  07/25/2024 00:00:00          24.0            F   Outside/Open Areas   \n",
       "1044  09/14/2024 00:00:00          24.0            M             In Water   \n",
       "1045  07/31/2024 00:00:00          44.0            M   Outside/Open Areas   \n",
       "1046  06/23/2024 00:00:00          59.0            M   Outside/Open Areas   \n",
       "\n",
       "      EVENT_YEARMONTH  \n",
       "0              202410  \n",
       "1              202410  \n",
       "2              202405  \n",
       "3              202405  \n",
       "4              202404  \n",
       "...               ...  \n",
       "1042           202405  \n",
       "1043           202407  \n",
       "1044           202408  \n",
       "1045           202407  \n",
       "1046           202406  \n",
       "\n",
       "[1047 rows x 11 columns]>"
      ]
     },
     "execution_count": 10,
     "metadata": {},
     "output_type": "execute_result"
    }
   ],
   "source": [
    "import pandas as pd\n",
    "df = pd.read_csv(r\"C:\\Users\\nsmith\\OneDrive - Georgia Poultry Laboratory Network\\CareerFoundry\\02 - Data Immersion\\Achievement 6\\01 Data\\StormEvents_fatalities-ftp_v1.0_d2024_c20250317.csv.gz\", compression='gzip')\n",
    "df.head\n",
    "df.columns\n",
    "df.describe"
   ]
  },
  {
   "cell_type": "code",
   "execution_count": null,
   "id": "65b58dd2",
   "metadata": {},
   "outputs": [],
   "source": []
  }
 ],
 "metadata": {
  "kernelspec": {
   "display_name": "Python 3 (ipykernel)",
   "language": "python",
   "name": "python3"
  },
  "language_info": {
   "codemirror_mode": {
    "name": "ipython",
    "version": 3
   },
   "file_extension": ".py",
   "mimetype": "text/x-python",
   "name": "python",
   "nbconvert_exporter": "python",
   "pygments_lexer": "ipython3",
   "version": "3.10.9"
  }
 },
 "nbformat": 4,
 "nbformat_minor": 5
}
